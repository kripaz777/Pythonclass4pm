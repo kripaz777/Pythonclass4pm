{
 "cells": [
  {
   "cell_type": "code",
   "execution_count": 1,
   "metadata": {},
   "outputs": [
    {
     "name": "stdout",
     "output_type": "stream",
     "text": [
      "This is class A\n",
      "This is class B\n"
     ]
    }
   ],
   "source": [
    "class A:\n",
    "    print(\"This is class A\")\n",
    "    \n",
    "class B(A):\n",
    "    print(\"This is class B\")\n",
    "    \n",
    "obj = B()"
   ]
  },
  {
   "cell_type": "code",
   "execution_count": 3,
   "metadata": {},
   "outputs": [
    {
     "name": "stdout",
     "output_type": "stream",
     "text": [
      "This is class A\n",
      "This is class B\n"
     ]
    }
   ],
   "source": [
    "class A:\n",
    "    def a(self):\n",
    "        print(\"This is class A\")\n",
    "    \n",
    "class B(A):\n",
    "    def b(self):\n",
    "        print(\"This is class B\")\n",
    "    \n",
    "obj = B()\n",
    "obj.a()\n",
    "obj.b()"
   ]
  },
  {
   "cell_type": "code",
   "execution_count": 4,
   "metadata": {},
   "outputs": [
    {
     "name": "stdout",
     "output_type": "stream",
     "text": [
      "Enter name = Ram\n",
      "Enter address = Kathmandu\n",
      "Hello my name is Ram I am from Kathmandu\n"
     ]
    }
   ],
   "source": [
    "class Info:\n",
    "    def __init__(self):\n",
    "        self.name = input(\"Enter name = \")\n",
    "        self.add = input(\"Enter address = \")\n",
    "        \n",
    "class Office(Info):\n",
    "    def my_info(self):\n",
    "        print(f\"Hello my name is {self.name} I am from {self.add}\")\n",
    "        \n",
    "obj = Office()\n",
    "obj.my_info()"
   ]
  },
  {
   "cell_type": "code",
   "execution_count": 5,
   "metadata": {},
   "outputs": [
    {
     "name": "stdout",
     "output_type": "stream",
     "text": [
      "Enter name = Ram\n",
      "Enter address = Ktm\n",
      "Hello my name is Ram I am from Ktm\n"
     ]
    }
   ],
   "source": [
    "class Info:\n",
    "    def __init__(self,name,add):\n",
    "        self.name = name\n",
    "        self.add = add\n",
    "        \n",
    "class Office(Info):\n",
    "    def my_info(self):\n",
    "        print(f\"Hello my name is {self.name} I am from {self.add}\")\n",
    "\n",
    "name = input(\"Enter name = \")\n",
    "add = input(\"Enter address = \")\n",
    "\n",
    "obj = Office(name,add)\n",
    "obj.my_info()"
   ]
  },
  {
   "cell_type": "code",
   "execution_count": 7,
   "metadata": {},
   "outputs": [
    {
     "name": "stdout",
     "output_type": "stream",
     "text": [
      "Enter name = Ram\n",
      "Enter address = Kathmandu\n",
      "Enter age = 45\n",
      "Hello my name is Ram I am from Kathmandu I am 45\n"
     ]
    }
   ],
   "source": [
    "class Info:\n",
    "    def __init__(self,name,add):\n",
    "        self.name = name\n",
    "        self.add = add\n",
    "        \n",
    "class Office(Info):\n",
    "    def __init__(self,name,add,age):\n",
    "        Info.__init__(self,name,add)\n",
    "        self.age = age\n",
    "        \n",
    "        \n",
    "    def my_info(self):\n",
    "        print(f\"Hello my name is {self.name} I am from {self.add} I am {self.age}\")\n",
    "\n",
    "name = input(\"Enter name = \")\n",
    "add = input(\"Enter address = \")\n",
    "age = input(\"Enter age = \")\n",
    "obj = Office(name,add,age)\n",
    "obj.my_info()"
   ]
  },
  {
   "cell_type": "code",
   "execution_count": 9,
   "metadata": {},
   "outputs": [
    {
     "name": "stdout",
     "output_type": "stream",
     "text": [
      "Enter name = Ram\n",
      "Enter address = Kathmandu\n",
      "Enter age = 34\n",
      "Hello my name is Ram I am from Kathmandu I am 34\n"
     ]
    }
   ],
   "source": [
    "class Address:\n",
    "    def __init__(self,add):\n",
    "        self.add = add\n",
    "        \n",
    "        \n",
    "class Info(Address):\n",
    "    def __init__(self,name,add):\n",
    "        Address.__init__(self,add)\n",
    "        self.name = name\n",
    "        \n",
    "        \n",
    "class Office(Info):\n",
    "    def __init__(self,name,add,age):\n",
    "        Info.__init__(self,name,add)\n",
    "        self.age = age\n",
    "          \n",
    "    def my_info(self):\n",
    "        print(f\"Hello my name is {self.name} I am from {self.add} I am {self.age}\")\n",
    "\n",
    "name = input(\"Enter name = \")\n",
    "add = input(\"Enter address = \")\n",
    "age = input(\"Enter age = \")\n",
    "obj = Office(name,add,age)\n",
    "obj.my_info()"
   ]
  },
  {
   "cell_type": "code",
   "execution_count": 10,
   "metadata": {},
   "outputs": [
    {
     "name": "stdout",
     "output_type": "stream",
     "text": [
      "Enter name = Ram\n",
      "Enter address = Kathmandu\n",
      "Enter age = 45\n",
      "Hello my name is Ram I am from Kathmandu I am 45\n"
     ]
    }
   ],
   "source": [
    "class Address:\n",
    "    def __init__(self,add):\n",
    "        self.add = add\n",
    "        \n",
    "        \n",
    "class Info(Address):\n",
    "    def __init__(self,name):\n",
    "        self.name = name\n",
    "        \n",
    "        \n",
    "class Office(Info,Address):\n",
    "    def __init__(self,name,add,age):\n",
    "        Info.__init__(self,name)\n",
    "        Address.__init__(self,add)\n",
    "        self.age = age\n",
    "          \n",
    "    def my_info(self):\n",
    "        print(f\"Hello my name is {self.name} I am from {self.add} I am {self.age}\")\n",
    "\n",
    "name = input(\"Enter name = \")\n",
    "add = input(\"Enter address = \")\n",
    "age = input(\"Enter age = \")\n",
    "obj = Office(name,add,age)\n",
    "obj.my_info()"
   ]
  },
  {
   "cell_type": "code",
   "execution_count": 11,
   "metadata": {},
   "outputs": [
    {
     "name": "stdout",
     "output_type": "stream",
     "text": [
      "Enter name = Ram\n",
      "Enter address = Kathmandu\n",
      "Ram\n",
      "Kathmandu\n"
     ]
    }
   ],
   "source": [
    "class Info:\n",
    "    def __init__(self):\n",
    "        self.name = input(\"Enter name = \")\n",
    "        self.add = input(\"Enter address = \")\n",
    "\n",
    "obj = Info()\n",
    "print(obj.name)\n",
    "print(obj.add)"
   ]
  },
  {
   "cell_type": "code",
   "execution_count": 13,
   "metadata": {},
   "outputs": [
    {
     "name": "stdout",
     "output_type": "stream",
     "text": [
      "Enter name = Ram\n",
      "Enter address = Kathmandu\n",
      "Ram\n",
      "Kathmandu\n"
     ]
    }
   ],
   "source": [
    "class Info:\n",
    "    def __init__(self):\n",
    "        self._name = input(\"Enter name = \")\n",
    "        self._add = input(\"Enter address = \")\n",
    "\n",
    "obj = Info()\n",
    "print(obj._name)\n",
    "print(obj._add)"
   ]
  },
  {
   "cell_type": "code",
   "execution_count": 15,
   "metadata": {},
   "outputs": [
    {
     "name": "stdout",
     "output_type": "stream",
     "text": [
      "Enter name = Ram\n",
      "Enter address = adasdas \n"
     ]
    },
    {
     "ename": "AttributeError",
     "evalue": "'Info' object has no attribute '__name'",
     "output_type": "error",
     "traceback": [
      "\u001b[1;31m---------------------------------------------------------------------------\u001b[0m",
      "\u001b[1;31mAttributeError\u001b[0m                            Traceback (most recent call last)",
      "\u001b[1;32m<ipython-input-15-1d7ca2056992>\u001b[0m in \u001b[0;36m<module>\u001b[1;34m\u001b[0m\n\u001b[0;32m      5\u001b[0m \u001b[1;33m\u001b[0m\u001b[0m\n\u001b[0;32m      6\u001b[0m \u001b[0mobj\u001b[0m \u001b[1;33m=\u001b[0m \u001b[0mInfo\u001b[0m\u001b[1;33m(\u001b[0m\u001b[1;33m)\u001b[0m\u001b[1;33m\u001b[0m\u001b[1;33m\u001b[0m\u001b[0m\n\u001b[1;32m----> 7\u001b[1;33m \u001b[0mprint\u001b[0m\u001b[1;33m(\u001b[0m\u001b[0mobj\u001b[0m\u001b[1;33m.\u001b[0m\u001b[0m__name\u001b[0m\u001b[1;33m)\u001b[0m\u001b[1;33m\u001b[0m\u001b[1;33m\u001b[0m\u001b[0m\n\u001b[0m\u001b[0;32m      8\u001b[0m \u001b[0mprint\u001b[0m\u001b[1;33m(\u001b[0m\u001b[0mobj\u001b[0m\u001b[1;33m.\u001b[0m\u001b[0m__add\u001b[0m\u001b[1;33m)\u001b[0m\u001b[1;33m\u001b[0m\u001b[1;33m\u001b[0m\u001b[0m\n",
      "\u001b[1;31mAttributeError\u001b[0m: 'Info' object has no attribute '__name'"
     ]
    }
   ],
   "source": [
    "class Info:\n",
    "    def __init__(self):\n",
    "        self.__name = input(\"Enter name = \")\n",
    "        self.__add = input(\"Enter address = \")\n",
    "\n",
    "obj = Info()\n",
    "print(obj.__name)\n",
    "print(obj.__add)"
   ]
  },
  {
   "cell_type": "code",
   "execution_count": 16,
   "metadata": {},
   "outputs": [
    {
     "name": "stdout",
     "output_type": "stream",
     "text": [
      "Enter name = Ram\n",
      "Enter address = Kathmandu\n",
      "Ram\n",
      "Kathmandu\n"
     ]
    }
   ],
   "source": [
    "class Info:\n",
    "    def __init__(self):\n",
    "        self.__name = input(\"Enter name = \")\n",
    "        self.__add = input(\"Enter address = \")\n",
    "\n",
    "obj = Info()\n",
    "print(obj._Info__name)\n",
    "print(obj._Info__add)"
   ]
  },
  {
   "cell_type": "code",
   "execution_count": 18,
   "metadata": {},
   "outputs": [
    {
     "name": "stdout",
     "output_type": "stream",
     "text": [
      "Enter name = Ram\n",
      "Enter address = Kathmandu\n",
      "Enter age = 34\n",
      "Hello my name is Ram I am from Kathmandu I am 34\n"
     ]
    }
   ],
   "source": [
    "class Address:\n",
    "    def __init__(self,add):\n",
    "        self.add = add\n",
    "        \n",
    "        \n",
    "class Info(Address):\n",
    "    def __init__(self,name,add):\n",
    "        Address.__init__(self,add)\n",
    "        self._name = name\n",
    "        \n",
    "        \n",
    "class Office(Info):\n",
    "    def __init__(self,name,add,age):\n",
    "        Info.__init__(self,name,add)\n",
    "        self.__age = age\n",
    "          \n",
    "    def my_info(self):\n",
    "        print(f\"Hello my name is {self._name} I am from {self.add} I am {self.__age}\")\n",
    "\n",
    "name = input(\"Enter name = \")\n",
    "add = input(\"Enter address = \")\n",
    "age = input(\"Enter age = \")\n",
    "obj = Office(name,add,age)\n",
    "obj.my_info()"
   ]
  },
  {
   "cell_type": "code",
   "execution_count": 2,
   "metadata": {},
   "outputs": [
    {
     "name": "stdout",
     "output_type": "stream",
     "text": [
      "Enter name = Ram\n",
      "Enter address = Kathmandu\n",
      "Enter age = 23\n",
      "Hello my name is Ram I am from Kathmandu I am 23\n",
      "Kathmandu\n"
     ]
    }
   ],
   "source": [
    "# super function\n",
    "class Address:\n",
    "    def __init__(self,add):\n",
    "        self.add = add\n",
    "    def address(self):\n",
    "        return self.add\n",
    "        \n",
    "class Info(Address):\n",
    "    def __init__(self,name,add):\n",
    "        Address.__init__(self,add)\n",
    "        self._name = name\n",
    "        \n",
    "        \n",
    "class Office(Info):\n",
    "    def __init__(self,name,add,age):\n",
    "        Info.__init__(self,name,add)\n",
    "        self.__age = age\n",
    "          \n",
    "    def my_info(self):\n",
    "        print(f\"Hello my name is {self._name} I am from {self.add} I am {self.__age}\")\n",
    "        print(super().address())\n",
    "\n",
    "name = input(\"Enter name = \")\n",
    "add = input(\"Enter address = \")\n",
    "age = input(\"Enter age = \")\n",
    "obj = Office(name,add,age)\n",
    "obj.my_info()"
   ]
  },
  {
   "cell_type": "code",
   "execution_count": 3,
   "metadata": {},
   "outputs": [
    {
     "name": "stdout",
     "output_type": "stream",
     "text": [
      "Enter name = Ram\n",
      "Enter address = Kathmandu\n",
      "Enter age = 34\n",
      "Hello my name is Ram I am from Kathmandu I am 34\n",
      "Kathmandu\n"
     ]
    }
   ],
   "source": [
    "# super function\n",
    "class Address:\n",
    "    def __init__(self,add):\n",
    "        self.add = add\n",
    "    def address(self):\n",
    "        return self.add\n",
    "        \n",
    "class Info(Address):\n",
    "    def __init__(self,name,add):\n",
    "        Address.__init__(self,add)\n",
    "        self._name = name\n",
    "        \n",
    "        \n",
    "class Office(Info):\n",
    "    def __init__(self,name,add,age):\n",
    "        Info.__init__(self,name,add)\n",
    "        self.__age = age\n",
    "          \n",
    "    def my_info(self):\n",
    "        print(f\"Hello my name is {self._name} I am from {self.add} I am {self.__age}\")\n",
    "        print(Address.address(self))\n",
    "\n",
    "name = input(\"Enter name = \")\n",
    "add = input(\"Enter address = \")\n",
    "age = input(\"Enter age = \")\n",
    "obj = Office(name,add,age)\n",
    "obj.my_info()"
   ]
  },
  {
   "cell_type": "code",
   "execution_count": 5,
   "metadata": {},
   "outputs": [
    {
     "name": "stdout",
     "output_type": "stream",
     "text": [
      "Hello world\n"
     ]
    }
   ],
   "source": [
    "def outer_function(fun):\n",
    "    \n",
    "    def inner_function():\n",
    "        x =fun()\n",
    "    return inner_function()\n",
    "\n",
    "@outer_function\n",
    "def hello():\n",
    "    print(\"Hello world\")\n"
   ]
  },
  {
   "cell_type": "code",
   "execution_count": 8,
   "metadata": {},
   "outputs": [
    {
     "data": {
      "text/plain": [
       "'hellow world'"
      ]
     },
     "execution_count": 8,
     "metadata": {},
     "output_type": "execute_result"
    }
   ],
   "source": [
    "def strings(function):\n",
    "    def wrapper():\n",
    "        fun = function()\n",
    "        x = fun.lower()\n",
    "        return x\n",
    "    return wrapper\n",
    "\n",
    "@strings\n",
    "def info():\n",
    "    return 'Hellow World'\n",
    "\n",
    "info()\n"
   ]
  },
  {
   "cell_type": "code",
   "execution_count": 9,
   "metadata": {},
   "outputs": [
    {
     "data": {
      "text/plain": [
       "['hellow', 'world']"
      ]
     },
     "execution_count": 9,
     "metadata": {},
     "output_type": "execute_result"
    }
   ],
   "source": [
    "def strings(function):\n",
    "    def wrapper():\n",
    "        fun = function()\n",
    "        x = fun.lower()\n",
    "        return x\n",
    "    return wrapper\n",
    "\n",
    "def split_string(function):\n",
    "    def wrappe():\n",
    "        func = function()\n",
    "        splitted_string = func.split()\n",
    "        return splitted_string\n",
    "\n",
    "    return wrappe\n",
    "@split_string\n",
    "@strings\n",
    "def info():\n",
    "    return 'Hellow World'\n",
    "info()\n"
   ]
  },
  {
   "cell_type": "code",
   "execution_count": null,
   "metadata": {},
   "outputs": [],
   "source": []
  }
 ],
 "metadata": {
  "kernelspec": {
   "display_name": "Python 3",
   "language": "python",
   "name": "python3"
  },
  "language_info": {
   "codemirror_mode": {
    "name": "ipython",
    "version": 3
   },
   "file_extension": ".py",
   "mimetype": "text/x-python",
   "name": "python",
   "nbconvert_exporter": "python",
   "pygments_lexer": "ipython3",
   "version": "3.7.1"
  }
 },
 "nbformat": 4,
 "nbformat_minor": 2
}
