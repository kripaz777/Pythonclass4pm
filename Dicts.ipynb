{
 "cells": [
  {
   "cell_type": "code",
   "execution_count": 1,
   "metadata": {},
   "outputs": [],
   "source": [
    "# Dicts\n",
    "# -Indexing\n",
    "# -This can have duplicate values\n",
    "# -Ordered\n",
    "# -no duplicate index\n",
    "# -Mutable"
   ]
  },
  {
   "cell_type": "code",
   "execution_count": 2,
   "metadata": {},
   "outputs": [
    {
     "name": "stdout",
     "output_type": "stream",
     "text": [
      "<class 'dict'>\n"
     ]
    }
   ],
   "source": [
    "d = {}\n",
    "print(type(d))"
   ]
  },
  {
   "cell_type": "code",
   "execution_count": 3,
   "metadata": {},
   "outputs": [
    {
     "name": "stdout",
     "output_type": "stream",
     "text": [
      "{'a': 'Apple', 'b': 'Ball'}\n"
     ]
    }
   ],
   "source": [
    "# d = {<key>:<value>,<key>:<value>,<key>:<value>}\n",
    "d = {\"a\":\"Apple\",\"b\":\"Ball\"}\n",
    "print(d)"
   ]
  },
  {
   "cell_type": "code",
   "execution_count": 4,
   "metadata": {},
   "outputs": [
    {
     "data": {
      "text/plain": [
       "2"
      ]
     },
     "execution_count": 4,
     "metadata": {},
     "output_type": "execute_result"
    }
   ],
   "source": [
    "len(d)"
   ]
  },
  {
   "cell_type": "code",
   "execution_count": 6,
   "metadata": {},
   "outputs": [
    {
     "name": "stdout",
     "output_type": "stream",
     "text": [
      "Apple\n"
     ]
    }
   ],
   "source": [
    "print(d[\"a\"])"
   ]
  },
  {
   "cell_type": "code",
   "execution_count": 7,
   "metadata": {},
   "outputs": [
    {
     "name": "stdout",
     "output_type": "stream",
     "text": [
      "{'a': 'Apple', 'b': 'Ball', 'A': 'Apple'}\n"
     ]
    }
   ],
   "source": [
    "d = {\"a\":\"Apple\",\"b\":\"Ball\",\"A\":\"Apple\"}\n",
    "print(d)"
   ]
  },
  {
   "cell_type": "code",
   "execution_count": 8,
   "metadata": {},
   "outputs": [
    {
     "name": "stdout",
     "output_type": "stream",
     "text": [
      "{'a': 'Ant', 'b': 'Ball'}\n"
     ]
    }
   ],
   "source": [
    "d = {\"a\":\"Apple\",\"b\":\"Ball\",\"a\":\"Ant\"}\n",
    "print(d)"
   ]
  },
  {
   "cell_type": "code",
   "execution_count": 10,
   "metadata": {},
   "outputs": [
    {
     "data": {
      "text/plain": [
       "{'a': 'Apple', 'b': 'Ball'}"
      ]
     },
     "execution_count": 10,
     "metadata": {},
     "output_type": "execute_result"
    }
   ],
   "source": [
    "a = dict()\n",
    "a[\"a\"] = \"Apple\"\n",
    "a[\"b\"] = \"Ball\"\n",
    "a"
   ]
  },
  {
   "cell_type": "code",
   "execution_count": 11,
   "metadata": {},
   "outputs": [
    {
     "name": "stdout",
     "output_type": "stream",
     "text": [
      "{'a': 'apple', 'b': 'Ball'}\n"
     ]
    }
   ],
   "source": [
    "a = {'a': 'Apple', 'b': 'Ball'}\n",
    "a['a'] = 'apple'\n",
    "print(a)"
   ]
  },
  {
   "cell_type": "code",
   "execution_count": 14,
   "metadata": {},
   "outputs": [
    {
     "name": "stdout",
     "output_type": "stream",
     "text": [
      "{'a': 'Apple', 'b': 'Ball', 'c': 'Cat'}\n"
     ]
    }
   ],
   "source": [
    "a = {'a': 'Apple', 'b': 'Ball'}\n",
    "b = {'c':'Cat'}\n",
    "a.update(b)\n",
    "print(a)"
   ]
  },
  {
   "cell_type": "code",
   "execution_count": 15,
   "metadata": {},
   "outputs": [
    {
     "name": "stdout",
     "output_type": "stream",
     "text": [
      "Enter n = 2\n",
      "Enter name = Apple\n",
      "Enter phone = 9856556543\n",
      "Enter name = Ram\n",
      "Enter phone = 9856554543\n",
      "{'Apple': 9856556543, 'Ram': 9856554543}\n"
     ]
    }
   ],
   "source": [
    "d = {}\n",
    "n = int(input(\"Enter n = \"))\n",
    "for i in range(n):\n",
    "    name = input(\"Enter name = \")\n",
    "    phone = int(input(\"Enter phone = \"))\n",
    "    key = name\n",
    "    value = phone\n",
    "    d[key] = value\n",
    "    \n",
    "print(d)"
   ]
  },
  {
   "cell_type": "code",
   "execution_count": 16,
   "metadata": {},
   "outputs": [
    {
     "name": "stdout",
     "output_type": "stream",
     "text": [
      "9856554543\n"
     ]
    }
   ],
   "source": [
    "print(d[\"Ram\"])"
   ]
  },
  {
   "cell_type": "code",
   "execution_count": 17,
   "metadata": {},
   "outputs": [
    {
     "name": "stdout",
     "output_type": "stream",
     "text": [
      "Apple\n",
      "Ram\n"
     ]
    }
   ],
   "source": [
    "a = {'Apple': 9856556543, 'Ram': 9856554543}\n",
    "for i in a:\n",
    "    print(i)"
   ]
  },
  {
   "cell_type": "code",
   "execution_count": 18,
   "metadata": {},
   "outputs": [
    {
     "name": "stdout",
     "output_type": "stream",
     "text": [
      "('Apple', 9856556543)\n",
      "('Ram', 9856554543)\n"
     ]
    }
   ],
   "source": [
    "a = {'Apple': 9856556543, 'Ram': 9856554543}\n",
    "for i in a.items():\n",
    "    print(i)"
   ]
  },
  {
   "cell_type": "code",
   "execution_count": 19,
   "metadata": {},
   "outputs": [
    {
     "name": "stdout",
     "output_type": "stream",
     "text": [
      "9856556543\n",
      "9856554543\n"
     ]
    }
   ],
   "source": [
    "a = {'Shyam': 9856556543, 'Ram': 9856554543}\n",
    "for i in a.values():\n",
    "    print(i)"
   ]
  },
  {
   "cell_type": "code",
   "execution_count": 21,
   "metadata": {},
   "outputs": [
    {
     "name": "stdout",
     "output_type": "stream",
     "text": [
      "{'Apple': 9856556543, 'Ram': 9856554543}\n"
     ]
    }
   ],
   "source": [
    "d = [('Apple', 9856556543),('Ram', 9856554543)]\n",
    "print(dict(d))"
   ]
  },
  {
   "cell_type": "code",
   "execution_count": 23,
   "metadata": {},
   "outputs": [
    {
     "name": "stdout",
     "output_type": "stream",
     "text": [
      "{'Ram': 9856554543}\n"
     ]
    }
   ],
   "source": [
    "a = {'Apple': 9856556543, 'Ram': 9856554543}\n",
    "del a['Apple']\n",
    "print(a)"
   ]
  },
  {
   "cell_type": "code",
   "execution_count": 25,
   "metadata": {},
   "outputs": [
    {
     "name": "stdout",
     "output_type": "stream",
     "text": [
      "9856556543\n"
     ]
    }
   ],
   "source": [
    "a = {'Apple': 9856556543, 'Ram': 9856554543}\n",
    "print(a.pop('Apple'))"
   ]
  },
  {
   "cell_type": "code",
   "execution_count": 27,
   "metadata": {},
   "outputs": [
    {
     "name": "stdout",
     "output_type": "stream",
     "text": [
      "9856556543\n"
     ]
    }
   ],
   "source": [
    "a = {'Shyam': 9856556543, 'Ram': 9856554543}\n",
    "b = a.pop('Shyam')\n",
    "print(b)"
   ]
  },
  {
   "cell_type": "code",
   "execution_count": 28,
   "metadata": {},
   "outputs": [],
   "source": [
    "# list inside dict\n",
    "a = {'Ram':[9856554543,9808776765],'Shyam': [9856556543,9856554543]}"
   ]
  },
  {
   "cell_type": "code",
   "execution_count": 29,
   "metadata": {},
   "outputs": [
    {
     "name": "stdout",
     "output_type": "stream",
     "text": [
      "Enter n = 2\n",
      "Enter name = Ram\n",
      "Enter ntc phone = 9867665654\n",
      "Enter ncell phone = 9867665654\n",
      "Enter name = Shyam\n",
      "Enter ntc phone = 9856554543\n",
      "Enter ncell phone = 9856554543\n",
      "{'Ram': [9867665654, 9867665654], 'Shyam': [9856554543, 9856554543]}\n"
     ]
    }
   ],
   "source": [
    "d = {}\n",
    "n = int(input(\"Enter n = \"))\n",
    "for i in range(n):\n",
    "    name = input(\"Enter name = \")\n",
    "    ntc = int(input(\"Enter ntc phone = \"))\n",
    "    ncell = int(input(\"Enter ncell phone = \"))\n",
    "    key = name\n",
    "    value = [ntc,ncell]\n",
    "    d[key] = value\n",
    "    \n",
    "print(d)"
   ]
  },
  {
   "cell_type": "code",
   "execution_count": 30,
   "metadata": {},
   "outputs": [
    {
     "name": "stdout",
     "output_type": "stream",
     "text": [
      "Enter n = 2\n",
      "Enter name = Ram\n",
      "Enter ntc phone = 9878776765\n",
      "Enter ncell phone = 9856554543\n",
      "Enter name = Shyam\n",
      "Enter ntc phone = 9856554543\n",
      "Enter ncell phone = 9808556543\n",
      "{'Name': ['Ram', 'Shyam'], 'NTC': [9878776765, 9856554543], 'NCELL': [9856554543, 9808556543]}\n"
     ]
    }
   ],
   "source": [
    "na = []\n",
    "nt = []\n",
    "nc = []\n",
    "n = int(input(\"Enter n = \"))\n",
    "for i in range(n):\n",
    "    name = input(\"Enter name = \")\n",
    "    ntc = int(input(\"Enter ntc phone = \"))\n",
    "    ncell = int(input(\"Enter ncell phone = \"))\n",
    "    na.append(name)\n",
    "    nt.append(ntc)\n",
    "    nc.append(ncell)\n",
    "d = {\"Name\":na,\"NTC\":nt,\"NCELL\":nc}\n",
    "print(d)"
   ]
  },
  {
   "cell_type": "code",
   "execution_count": 31,
   "metadata": {},
   "outputs": [
    {
     "name": "stdout",
     "output_type": "stream",
     "text": [
      "Name\n",
      "NTC\n",
      "NCELL\n"
     ]
    }
   ],
   "source": [
    "a = {'Name': ['Ram', 'Shyam'], 'NTC': [9878776765, 9856554543], 'NCELL': [9856554543, 9808556543]}\n",
    "for i in a:\n",
    "    print(i)"
   ]
  },
  {
   "cell_type": "code",
   "execution_count": 32,
   "metadata": {},
   "outputs": [
    {
     "name": "stdout",
     "output_type": "stream",
     "text": [
      "('Name', ['Ram', 'Shyam'])\n",
      "('NTC', [9878776765, 9856554543])\n",
      "('NCELL', [9856554543, 9808556543])\n"
     ]
    }
   ],
   "source": [
    "a = {'Name': ['Ram', 'Shyam'], 'NTC': [9878776765, 9856554543], 'NCELL': [9856554543, 9808556543]}\n",
    "for i in a.items():\n",
    "    print(i)"
   ]
  },
  {
   "cell_type": "code",
   "execution_count": 35,
   "metadata": {},
   "outputs": [
    {
     "name": "stdout",
     "output_type": "stream",
     "text": [
      "{'Name': ['Rama', 'Shyam'], 'NTC': [9878776765, 9856554543], 'NCELL': [9856554543, 9808556543]}\n"
     ]
    }
   ],
   "source": [
    "a = {'Name': ['Ram', 'Shyam'], 'NTC': [9878776765, 9856554543], 'NCELL': [9856554543, 9808556543]}\n",
    "a['Name'][0] = 'Rama'\n",
    "print(a)"
   ]
  },
  {
   "cell_type": "code",
   "execution_count": 36,
   "metadata": {},
   "outputs": [
    {
     "name": "stdout",
     "output_type": "stream",
     "text": [
      "{'Name': ['Shyam'], 'NTC': [9878776765, 9856554543], 'NCELL': [9856554543, 9808556543]}\n"
     ]
    }
   ],
   "source": [
    "a = {'Name': ['Ram', 'Shyam'], 'NTC': [9878776765, 9856554543], 'NCELL': [9856554543, 9808556543]}\n",
    "del a['Name'][0]\n",
    "print(a)"
   ]
  },
  {
   "cell_type": "code",
   "execution_count": 2,
   "metadata": {},
   "outputs": [],
   "source": [
    "# # Dictionary indside list\n",
    "# a = [{'Name':\"Ram\",'Age':34,'Add':'Kathmandu'},\n",
    "#     {'Name':\"Rama\",'Age':34,'Add':'patan'},\n",
    "#     {'Name':\"Shyam\",'Age':24,'Add':'Bhaktapur'}]\n"
   ]
  },
  {
   "cell_type": "code",
   "execution_count": 3,
   "metadata": {},
   "outputs": [
    {
     "name": "stdout",
     "output_type": "stream",
     "text": [
      "Enter n = 2\n",
      "Enter name = Ram\n",
      "Enter age = 34\n",
      "Enter add = Kathmandu\n",
      "Enter name = Shyam\n",
      "Enter age = 78\n",
      "Enter add = Patan\n",
      "[{'Name': 'Ram', 'Age': 34, 'Address': 'Kathmandu'}, {'Name': 'Shyam', 'Age': 78, 'Address': 'Patan'}]\n"
     ]
    }
   ],
   "source": [
    "a = []\n",
    "n = int(input(\"Enter n = \"))\n",
    "for i in range(n):\n",
    "    name = input(\"Enter name = \")\n",
    "    age = int(input(\"Enter age = \"))\n",
    "    add = input(\"Enter add = \")\n",
    "    d = {'Name':name,'Age':age,'Address':add}\n",
    "    a.append(d)\n",
    "    \n",
    "print(a)"
   ]
  },
  {
   "cell_type": "code",
   "execution_count": 4,
   "metadata": {},
   "outputs": [
    {
     "name": "stdout",
     "output_type": "stream",
     "text": [
      "{'Name': 'Ram', 'Age': 34, 'Address': 'Kathmandu'}\n",
      "{'Name': 'Shyam', 'Age': 78, 'Address': 'Patan'}\n"
     ]
    }
   ],
   "source": [
    "for i in a:\n",
    "    print(i)"
   ]
  },
  {
   "cell_type": "code",
   "execution_count": 5,
   "metadata": {},
   "outputs": [
    {
     "name": "stdout",
     "output_type": "stream",
     "text": [
      "dict_values(['Ram', 34, 'Kathmandu'])\n",
      "dict_values(['Shyam', 78, 'Patan'])\n"
     ]
    }
   ],
   "source": [
    "for i in a:\n",
    "    print(i.values())"
   ]
  },
  {
   "cell_type": "code",
   "execution_count": 6,
   "metadata": {},
   "outputs": [
    {
     "data": {
      "text/plain": [
       "{'Name': 'Ram', 'Age': 34, 'Address': 'Kathmandu'}"
      ]
     },
     "execution_count": 6,
     "metadata": {},
     "output_type": "execute_result"
    }
   ],
   "source": [
    "a = [{'Name': 'Ram', 'Age': 34, 'Address': 'Kathmandu'}, {'Name': 'Shyam', 'Age': 78, 'Address': 'Patan'}]\n",
    "del a[0]"
   ]
  },
  {
   "cell_type": "code",
   "execution_count": 8,
   "metadata": {},
   "outputs": [
    {
     "data": {
      "text/plain": [
       "[{'Age': 34, 'Address': 'Kathmandu'},\n",
       " {'Name': 'Shyam', 'Age': 78, 'Address': 'Patan'}]"
      ]
     },
     "execution_count": 8,
     "metadata": {},
     "output_type": "execute_result"
    }
   ],
   "source": [
    "a = [{'Name': 'Ram', 'Age': 34, 'Address': 'Kathmandu'}, {'Name': 'Shyam', 'Age': 78, 'Address': 'Patan'}]\n",
    "del a[0]['Name']\n",
    "a"
   ]
  },
  {
   "cell_type": "code",
   "execution_count": 10,
   "metadata": {},
   "outputs": [
    {
     "data": {
      "text/plain": [
       "[{'Name': 'Rama', 'Age': 34, 'Address': 'Kathmandu'},\n",
       " {'Name': 'Shyam', 'Age': 78, 'Address': 'Patan'}]"
      ]
     },
     "execution_count": 10,
     "metadata": {},
     "output_type": "execute_result"
    }
   ],
   "source": [
    "a = [{'Name': 'Ram', 'Age': 34, 'Address': 'Kathmandu'}, {'Name': 'Shyam', 'Age': 78, 'Address': 'Patan'}]\n",
    "a[0]['Name'] = 'Rama'\n",
    "a"
   ]
  },
  {
   "cell_type": "code",
   "execution_count": 11,
   "metadata": {},
   "outputs": [
    {
     "data": {
      "text/plain": [
       "{('Ram', 'Shyam'): 9867665654}"
      ]
     },
     "execution_count": 11,
     "metadata": {},
     "output_type": "execute_result"
    }
   ],
   "source": [
    "a = {('Ram','Shyam'):9867665654}\n",
    "a"
   ]
  },
  {
   "cell_type": "code",
   "execution_count": 12,
   "metadata": {},
   "outputs": [
    {
     "ename": "TypeError",
     "evalue": "unhashable type: 'list'",
     "output_type": "error",
     "traceback": [
      "\u001b[1;31m---------------------------------------------------------------------------\u001b[0m",
      "\u001b[1;31mTypeError\u001b[0m                                 Traceback (most recent call last)",
      "\u001b[1;32m<ipython-input-12-05453dd40daa>\u001b[0m in \u001b[0;36m<module>\u001b[1;34m\u001b[0m\n\u001b[1;32m----> 1\u001b[1;33m \u001b[0ma\u001b[0m \u001b[1;33m=\u001b[0m \u001b[1;33m{\u001b[0m\u001b[1;33m[\u001b[0m\u001b[1;34m'Ram'\u001b[0m\u001b[1;33m,\u001b[0m\u001b[1;34m'Shyam'\u001b[0m\u001b[1;33m]\u001b[0m\u001b[1;33m:\u001b[0m\u001b[1;36m9867665654\u001b[0m\u001b[1;33m}\u001b[0m\u001b[1;33m\u001b[0m\u001b[1;33m\u001b[0m\u001b[0m\n\u001b[0m\u001b[0;32m      2\u001b[0m \u001b[0ma\u001b[0m\u001b[1;33m\u001b[0m\u001b[1;33m\u001b[0m\u001b[0m\n",
      "\u001b[1;31mTypeError\u001b[0m: unhashable type: 'list'"
     ]
    }
   ],
   "source": [
    "a = {['Ram','Shyam']:9867665654}\n",
    "a"
   ]
  },
  {
   "cell_type": "code",
   "execution_count": 14,
   "metadata": {},
   "outputs": [
    {
     "data": {
      "text/plain": [
       "{'Ram': {'Ntc': 9867665654, 'Ncell': 9845445786},\n",
       " 'Shyam': {'Ntc': 9867665652, 'Ncell': 9845445784}}"
      ]
     },
     "execution_count": 14,
     "metadata": {},
     "output_type": "execute_result"
    }
   ],
   "source": [
    "# dict inside dict\n",
    "d = {'Ram':{'Ntc':9867665654,'Ncell':9845445786},\n",
    "    'Shyam':{'Ntc':9867665652,'Ncell':9845445784}}\n",
    "d"
   ]
  },
  {
   "cell_type": "code",
   "execution_count": 17,
   "metadata": {},
   "outputs": [
    {
     "name": "stdout",
     "output_type": "stream",
     "text": [
      "{'Ntc': 9867665654, 'Ncell': 9845445786}\n",
      "{'Ntc': 9867665652, 'Ncell': 9845445784}\n"
     ]
    }
   ],
   "source": [
    "for i in d.values():\n",
    "    print(i)"
   ]
  },
  {
   "cell_type": "code",
   "execution_count": 1,
   "metadata": {},
   "outputs": [
    {
     "name": "stdout",
     "output_type": "stream",
     "text": [
      "Enter n = 2\n",
      "Enter name = Ram\n",
      "Enter age = 45\n",
      "Enter add = Kathmandu\n",
      "Enter name = Shyam\n",
      "Enter age = 23\n",
      "Enter add = Patan\n",
      "{'Ram': {'Age': 45, 'Address': 'Kathmandu'}, 'Shyam': {'Age': 23, 'Address': 'Patan'}}\n"
     ]
    }
   ],
   "source": [
    "a = {}\n",
    "n = int(input(\"Enter n = \"))\n",
    "for i in range(n):\n",
    "    name = input(\"Enter name = \")\n",
    "    age = int(input(\"Enter age = \"))\n",
    "    add = input(\"Enter add = \")\n",
    "    d = {'Name':name,'Age':age,'Address':add}\n",
    "    a[name] = {'Age':age,'Address':add}\n",
    "    \n",
    "print(a)"
   ]
  },
  {
   "cell_type": "code",
   "execution_count": null,
   "metadata": {},
   "outputs": [],
   "source": []
  }
 ],
 "metadata": {
  "kernelspec": {
   "display_name": "Python 3",
   "language": "python",
   "name": "python3"
  },
  "language_info": {
   "codemirror_mode": {
    "name": "ipython",
    "version": 3
   },
   "file_extension": ".py",
   "mimetype": "text/x-python",
   "name": "python",
   "nbconvert_exporter": "python",
   "pygments_lexer": "ipython3",
   "version": "3.7.1"
  }
 },
 "nbformat": 4,
 "nbformat_minor": 2
}
