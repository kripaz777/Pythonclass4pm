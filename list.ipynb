{
 "cells": [
  {
   "cell_type": "code",
   "execution_count": 1,
   "metadata": {},
   "outputs": [],
   "source": [
    "# List\n",
    "# -This is Indexed\n",
    "# -Ordered\n",
    "# -Duplicate members\n",
    "# -Mutable"
   ]
  },
  {
   "cell_type": "code",
   "execution_count": 2,
   "metadata": {},
   "outputs": [
    {
     "name": "stdout",
     "output_type": "stream",
     "text": [
      "<class 'list'>\n"
     ]
    }
   ],
   "source": [
    "a = []\n",
    "b = list()\n",
    "print(type(a))"
   ]
  },
  {
   "cell_type": "code",
   "execution_count": 3,
   "metadata": {},
   "outputs": [
    {
     "name": "stdout",
     "output_type": "stream",
     "text": [
      "[1, 2, 3, 4, 5, 6] ['Apple', 'Ball', 'cat']\n"
     ]
    }
   ],
   "source": [
    "a = [1,2,3,4,5,6]\n",
    "b = [\"Apple\",\"Ball\",\"cat\"]\n",
    "print(a,b)"
   ]
  },
  {
   "cell_type": "code",
   "execution_count": 6,
   "metadata": {},
   "outputs": [
    {
     "name": "stdout",
     "output_type": "stream",
     "text": [
      "Ball\n",
      "3\n"
     ]
    }
   ],
   "source": [
    "a = ['Apple', 'Ball', 'cat']\n",
    "print(a[1])\n",
    "print(len(a))"
   ]
  },
  {
   "cell_type": "code",
   "execution_count": 9,
   "metadata": {},
   "outputs": [
    {
     "data": {
      "text/plain": [
       "[1, 2, 3, 4, 5]"
      ]
     },
     "execution_count": 9,
     "metadata": {},
     "output_type": "execute_result"
    }
   ],
   "source": [
    "a = [1,2,3,4,5,6,7,8,9,10]\n",
    "a[0:5]"
   ]
  },
  {
   "cell_type": "code",
   "execution_count": 10,
   "metadata": {},
   "outputs": [
    {
     "data": {
      "text/plain": [
       "[1, 3, 5, 7, 9]"
      ]
     },
     "execution_count": 10,
     "metadata": {},
     "output_type": "execute_result"
    }
   ],
   "source": [
    "a = [1,2,3,4,5,6,7,8,9,10]\n",
    "a[0:9:2]"
   ]
  },
  {
   "cell_type": "code",
   "execution_count": 12,
   "metadata": {},
   "outputs": [
    {
     "name": "stdout",
     "output_type": "stream",
     "text": [
      "['Fish', 'Apple', 'Ball', 'Cat']\n"
     ]
    }
   ],
   "source": [
    "a = [\"Apple\",\"Ball\",\"Cat\"]\n",
    "b = [\"Fish\"]\n",
    "c = b+a\n",
    "print(c)"
   ]
  },
  {
   "cell_type": "code",
   "execution_count": 13,
   "metadata": {},
   "outputs": [
    {
     "name": "stdout",
     "output_type": "stream",
     "text": [
      "[1, 2, 3, 4, 2, 3, 4, 1, 2]\n"
     ]
    }
   ],
   "source": [
    "a = [1,2,3,4,2,3,4,1,2]\n",
    "print(a)"
   ]
  },
  {
   "cell_type": "code",
   "execution_count": 15,
   "metadata": {},
   "outputs": [
    {
     "name": "stdout",
     "output_type": "stream",
     "text": [
      "['fish', 'Apple', 'Ball', 'Cat']\n"
     ]
    }
   ],
   "source": [
    "a = ['Fish', 'Apple', 'Ball', 'Cat']\n",
    "a[0] = 'fish'\n",
    "print(a)"
   ]
  },
  {
   "cell_type": "code",
   "execution_count": 16,
   "metadata": {},
   "outputs": [
    {
     "name": "stdout",
     "output_type": "stream",
     "text": [
      "Enter n = 3\n",
      "Enter x = Apple\n",
      "Enter x = Ball\n",
      "Enter x = Cat\n",
      "['Apple', 'Ball', 'Cat']\n"
     ]
    }
   ],
   "source": [
    "l = []\n",
    "n = int(input(\"Enter n = \"))\n",
    "for i in range(n):\n",
    "    x = input(\"Enter x = \")\n",
    "    l = l+[x]\n",
    "    \n",
    "print(l)"
   ]
  },
  {
   "cell_type": "code",
   "execution_count": 18,
   "metadata": {},
   "outputs": [
    {
     "name": "stdout",
     "output_type": "stream",
     "text": [
      "Enter n = 5\n",
      "Enter x = 12312\n",
      "Enter x = 3532\n",
      "Enter x = 45645\n",
      "Enter x = 23234\n",
      "Enter x = 45656\n",
      "The lis is =  [12312, 3532, 45645, 23234, 45656]\n",
      "The sum =  130379\n",
      "The max value =  45656\n",
      "The min value  =  3532\n"
     ]
    }
   ],
   "source": [
    "l = []\n",
    "n = int(input(\"Enter n = \"))\n",
    "for i in range(n):\n",
    "    x = int(input(\"Enter x = \"))\n",
    "    l = l+[x]\n",
    "    \n",
    "print(\"The lis is = \",l)\n",
    "print(\"The sum = \",sum(l))\n",
    "print(\"The max value = \",max(l))\n",
    "print(\"The min value  = \",min(l))"
   ]
  },
  {
   "cell_type": "code",
   "execution_count": 21,
   "metadata": {},
   "outputs": [
    {
     "name": "stdout",
     "output_type": "stream",
     "text": [
      "[3532, 12312, 23234, 45645, 45656]\n"
     ]
    }
   ],
   "source": [
    "l.sort()\n",
    "print(l)"
   ]
  },
  {
   "cell_type": "code",
   "execution_count": 22,
   "metadata": {},
   "outputs": [],
   "source": [
    "l.reverse()"
   ]
  },
  {
   "cell_type": "code",
   "execution_count": 23,
   "metadata": {},
   "outputs": [
    {
     "name": "stdout",
     "output_type": "stream",
     "text": [
      "[45656, 45645, 23234, 12312, 3532]\n"
     ]
    }
   ],
   "source": [
    "print(l)"
   ]
  },
  {
   "cell_type": "code",
   "execution_count": 24,
   "metadata": {},
   "outputs": [
    {
     "name": "stdout",
     "output_type": "stream",
     "text": [
      "['Ball', 'Fish', 'apple', 'cat']\n"
     ]
    }
   ],
   "source": [
    "a = ['Fish', 'apple', 'Ball', 'cat']\n",
    "a.sort()\n",
    "print(a)"
   ]
  },
  {
   "cell_type": "code",
   "execution_count": 25,
   "metadata": {},
   "outputs": [
    {
     "name": "stdout",
     "output_type": "stream",
     "text": [
      "Ball\n",
      "Fish\n",
      "apple\n",
      "cat\n"
     ]
    }
   ],
   "source": [
    "for i in a:\n",
    "    print(i)"
   ]
  },
  {
   "cell_type": "code",
   "execution_count": 26,
   "metadata": {},
   "outputs": [
    {
     "name": "stdout",
     "output_type": "stream",
     "text": [
      "Fish\n",
      "apple\n",
      "Ball\n",
      "cat\n"
     ]
    }
   ],
   "source": [
    "a = ['Fish', 'apple', 'Ball', 'cat']\n",
    "l = len(a)\n",
    "for i in range(l):\n",
    "    print(a[i])"
   ]
  },
  {
   "cell_type": "code",
   "execution_count": 30,
   "metadata": {},
   "outputs": [
    {
     "name": "stdout",
     "output_type": "stream",
     "text": [
      "Yes\n",
      "there are  1\n"
     ]
    }
   ],
   "source": [
    "a = ['Fish', 'apple', 'Ball', 'cat']\n",
    "if \"apple\" in a:\n",
    "    print(\"Yes\")\n",
    "    print(\"there are \",a.count(\"apple\"))\n",
    "else:\n",
    "    print(\"No\")"
   ]
  },
  {
   "cell_type": "code",
   "execution_count": 31,
   "metadata": {},
   "outputs": [
    {
     "name": "stdout",
     "output_type": "stream",
     "text": [
      "Enter n = 2\n",
      "Enter name = Ram\n",
      "Enter phone = 9856556543\n",
      "Enter age = 34\n",
      "Enter add = Kathmandu\n",
      "Enter name = Shyam\n",
      "Enter phone = 98556543\n",
      "Enter age = 34\n",
      "Enter add = kathmandu\n",
      "['Ram 34 Kathmandu 9856556543\\n', 'Shyam 34 kathmandu 98556543\\n']\n"
     ]
    }
   ],
   "source": [
    "s = []\n",
    "n = int(input(\"Enter n = \"))\n",
    "for i in range(n):\n",
    "    name = input(\"Enter name = \")\n",
    "    phone = input(\"Enter phone = \")\n",
    "    age = int(input(\"Enter age = \"))\n",
    "    add = input(\"Enter add = \")\n",
    "    s = s+[f\"{name} {age} {add} {phone}\"]\n",
    "print(s)"
   ]
  },
  {
   "cell_type": "code",
   "execution_count": 34,
   "metadata": {},
   "outputs": [
    {
     "name": "stdout",
     "output_type": "stream",
     "text": [
      "Enter name = Shyam\n",
      "Shyam 34 kathmandu 98556543\n",
      "\n"
     ]
    }
   ],
   "source": [
    "name = input(\"Enter name = \")\n",
    "a = ['Ram 34 Kathmandu 9856556543\\n', 'Shyam 34 kathmandu 98556543\\n']\n",
    "for i in a:\n",
    "    if name in i:\n",
    "        print(i)"
   ]
  },
  {
   "cell_type": "code",
   "execution_count": 35,
   "metadata": {},
   "outputs": [
    {
     "data": {
      "text/plain": [
       "['Apple']"
      ]
     },
     "execution_count": 35,
     "metadata": {},
     "output_type": "execute_result"
    }
   ],
   "source": [
    "# append() insert() extend()\n",
    "a = []\n",
    "a.append(\"Apple\")\n",
    "a"
   ]
  },
  {
   "cell_type": "code",
   "execution_count": 36,
   "metadata": {},
   "outputs": [
    {
     "name": "stdout",
     "output_type": "stream",
     "text": [
      "Enter n = 2\n",
      "Enter x = Apple\n",
      "Enter x = Ball\n",
      "['Apple', 'Ball']\n"
     ]
    }
   ],
   "source": [
    "l = []\n",
    "n = int(input(\"Enter n = \"))\n",
    "for i in range(n):\n",
    "    x = input(\"Enter x = \")\n",
    "    l.append(x)\n",
    "    \n",
    "print(l)"
   ]
  },
  {
   "cell_type": "code",
   "execution_count": 38,
   "metadata": {},
   "outputs": [
    {
     "name": "stdout",
     "output_type": "stream",
     "text": [
      "['Apple', 'Cat', 'Ball']\n"
     ]
    }
   ],
   "source": [
    "a = ['Apple', 'Ball']\n",
    "a.insert(1,'Cat')\n",
    "print(a)"
   ]
  },
  {
   "cell_type": "code",
   "execution_count": 39,
   "metadata": {},
   "outputs": [
    {
     "name": "stdout",
     "output_type": "stream",
     "text": [
      "['Apple', 'ball', 'cat', 'Fish', 'Goat']\n"
     ]
    }
   ],
   "source": [
    "a = [\"Apple\",\"ball\",\"cat\"]\n",
    "b = [\"Fish\",\"Goat\"]\n",
    "a.extend(b)\n",
    "print(a)"
   ]
  },
  {
   "cell_type": "code",
   "execution_count": 40,
   "metadata": {},
   "outputs": [
    {
     "data": {
      "text/plain": [
       "2"
      ]
     },
     "execution_count": 40,
     "metadata": {},
     "output_type": "execute_result"
    }
   ],
   "source": [
    "# index()\n",
    "a = ['Apple', 'ball', 'cat', 'Fish', 'Goat']\n",
    "a.index(\"cat\")"
   ]
  },
  {
   "cell_type": "code",
   "execution_count": 42,
   "metadata": {},
   "outputs": [
    {
     "name": "stdout",
     "output_type": "stream",
     "text": [
      "Enter x = cat\n",
      "2\n",
      "5\n"
     ]
    }
   ],
   "source": [
    "# index()\n",
    "a = ['Apple', 'ball', 'cat', 'Fish', 'Goat','cat']\n",
    "l = len(a)\n",
    "x = input(\"Enter x = \")\n",
    "for i in range(l):\n",
    "    if a[i] == x:\n",
    "        print(i)"
   ]
  },
  {
   "cell_type": "code",
   "execution_count": 44,
   "metadata": {},
   "outputs": [
    {
     "data": {
      "text/plain": [
       "['Ant', 'ball', 'cat', 'Fish', 'Goat']"
      ]
     },
     "execution_count": 44,
     "metadata": {},
     "output_type": "execute_result"
    }
   ],
   "source": [
    "a = ['Apple', 'ball', 'cat', 'Fish', 'Goat']\n",
    "a[0] = \"Ant\"\n",
    "a"
   ]
  },
  {
   "cell_type": "code",
   "execution_count": 45,
   "metadata": {},
   "outputs": [
    {
     "name": "stdout",
     "output_type": "stream",
     "text": [
      "['ball', 'cat', 'Fish', 'Goat']\n"
     ]
    }
   ],
   "source": [
    "# del remove() pop()\n",
    "a = ['Apple', 'ball', 'cat', 'Fish', 'Goat']\n",
    "del a[0]\n",
    "print(a)"
   ]
  },
  {
   "cell_type": "code",
   "execution_count": 46,
   "metadata": {},
   "outputs": [
    {
     "name": "stdout",
     "output_type": "stream",
     "text": [
      "['Fish', 'Goat']\n"
     ]
    }
   ],
   "source": [
    "a = ['Apple', 'ball', 'cat', 'Fish', 'Goat']\n",
    "del a[0:3]\n",
    "print(a)"
   ]
  },
  {
   "cell_type": "code",
   "execution_count": 48,
   "metadata": {},
   "outputs": [
    {
     "name": "stdout",
     "output_type": "stream",
     "text": [
      "['Apple', 'cat', 'Fish', 'Goat']\n"
     ]
    }
   ],
   "source": [
    "a = ['Apple', 'ball', 'cat', 'Fish', 'Goat']\n",
    "a.remove('ball')\n",
    "print(a)"
   ]
  },
  {
   "cell_type": "code",
   "execution_count": 49,
   "metadata": {},
   "outputs": [
    {
     "name": "stdout",
     "output_type": "stream",
     "text": [
      "['Apple', 'cat', 'Fish', 'Goat', 'ball']\n"
     ]
    }
   ],
   "source": [
    "a = ['Apple', 'ball', 'cat', 'Fish', 'Goat','ball']\n",
    "a.remove('ball')\n",
    "print(a)"
   ]
  },
  {
   "cell_type": "code",
   "execution_count": 50,
   "metadata": {},
   "outputs": [
    {
     "name": "stdout",
     "output_type": "stream",
     "text": [
      "Enter x = ball\n",
      "['Apple', 'cat', 'Fish', 'Goat']\n"
     ]
    }
   ],
   "source": [
    "a = ['Apple', 'ball', 'cat', 'Fish', 'Goat','ball']\n",
    "x = input(\"Enter x = \")\n",
    "for i in a:\n",
    "    if i == x:\n",
    "        a.remove(x)\n",
    "        \n",
    "print(a)"
   ]
  },
  {
   "cell_type": "code",
   "execution_count": 53,
   "metadata": {},
   "outputs": [
    {
     "name": "stdout",
     "output_type": "stream",
     "text": [
      "['Apple', 'ball', 'Fish', 'Goat']\n"
     ]
    }
   ],
   "source": [
    "a = ['Apple', 'ball', 'cat', 'Fish', 'Goat']\n",
    "a.pop(2)\n",
    "print(a)"
   ]
  },
  {
   "cell_type": "code",
   "execution_count": 54,
   "metadata": {},
   "outputs": [
    {
     "name": "stdout",
     "output_type": "stream",
     "text": [
      "['Apple', 'ball', 'Fish', 'Goat']\n",
      "cat\n"
     ]
    }
   ],
   "source": [
    "a = ['Apple', 'ball', 'cat', 'Fish', 'Goat']\n",
    "b = a.pop(2)\n",
    "print(a)\n",
    "print(b)"
   ]
  },
  {
   "cell_type": "code",
   "execution_count": 55,
   "metadata": {},
   "outputs": [
    {
     "name": "stdout",
     "output_type": "stream",
     "text": [
      "[]\n"
     ]
    }
   ],
   "source": [
    "a = ['Apple', 'ball', 'cat', 'Fish', 'Goat']\n",
    "a.clear()\n",
    "print(a)"
   ]
  },
  {
   "cell_type": "code",
   "execution_count": 3,
   "metadata": {},
   "outputs": [
    {
     "name": "stdout",
     "output_type": "stream",
     "text": [
      "<class 'list'>\n",
      "[[], [], [], []]\n",
      "4\n"
     ]
    }
   ],
   "source": [
    "# list inside list\n",
    "a = [[],[],[],[]]\n",
    "print(type(a))\n",
    "print(a)\n",
    "print(len(a))"
   ]
  },
  {
   "cell_type": "code",
   "execution_count": 4,
   "metadata": {},
   "outputs": [
    {
     "name": "stdout",
     "output_type": "stream",
     "text": [
      "[[1, 2, 3], [4, 5, 6], [7, 8, 9]]\n"
     ]
    }
   ],
   "source": [
    "a = [[1,2,3],\n",
    "     [4,5,6],\n",
    "     [7,8,9]]\n",
    "print(a)"
   ]
  },
  {
   "cell_type": "code",
   "execution_count": 5,
   "metadata": {},
   "outputs": [
    {
     "data": {
      "text/plain": [
       "[1, 2, 3]"
      ]
     },
     "execution_count": 5,
     "metadata": {},
     "output_type": "execute_result"
    }
   ],
   "source": [
    "a[0]"
   ]
  },
  {
   "cell_type": "code",
   "execution_count": 6,
   "metadata": {},
   "outputs": [
    {
     "data": {
      "text/plain": [
       "1"
      ]
     },
     "execution_count": 6,
     "metadata": {},
     "output_type": "execute_result"
    }
   ],
   "source": [
    "a[0][0]"
   ]
  },
  {
   "cell_type": "code",
   "execution_count": 7,
   "metadata": {},
   "outputs": [
    {
     "name": "stdout",
     "output_type": "stream",
     "text": [
      "[['Ram', 43, 'Kathmandu'], ['Shyam', 34, 'Bara'], ['Hari', 54, 'Patan']]\n"
     ]
    }
   ],
   "source": [
    "a = [[\"Ram\",43,'Kathmandu'],[\"Shyam\",34,\"Bara\"]]\n",
    "b = [[\"Hari\",54,\"Patan\"]]\n",
    "c = a+b\n",
    "print(c)"
   ]
  },
  {
   "cell_type": "code",
   "execution_count": 8,
   "metadata": {},
   "outputs": [
    {
     "name": "stdout",
     "output_type": "stream",
     "text": [
      "Enter n = 2\n",
      "Enter name = Ram\n",
      "Enter age = 43\n",
      "Enter add = Kathmandu\n",
      "Enter name = Shyam\n",
      "Enter age = 64\n",
      "Enter add = Bara\n",
      "[['Ram', '43', 'Kathmandu'], ['Shyam', '64', 'Bara']]\n"
     ]
    }
   ],
   "source": [
    "l = []\n",
    "n = int(input(\"Enter n = \"))\n",
    "for i in range(n):\n",
    "    name = input(\"Enter name = \")\n",
    "    age = input(\"Enter age = \")\n",
    "    add = input(\"Enter add = \")\n",
    "    x = [name,age,add]\n",
    "    l.append(x)\n",
    "    \n",
    "print(l)"
   ]
  },
  {
   "cell_type": "code",
   "execution_count": 9,
   "metadata": {},
   "outputs": [
    {
     "name": "stdout",
     "output_type": "stream",
     "text": [
      "['Ram', '43', 'Kathmandu']\n",
      "['Shyam', '64', 'Bara']\n"
     ]
    }
   ],
   "source": [
    "for i in l:\n",
    "    print(i)"
   ]
  },
  {
   "cell_type": "code",
   "execution_count": 11,
   "metadata": {},
   "outputs": [
    {
     "name": "stdout",
     "output_type": "stream",
     "text": [
      "['Ram', '43', 'Kathmandu']\n"
     ]
    }
   ],
   "source": [
    "for i in l:\n",
    "    if \"Ram\" in i:\n",
    "        print(i)"
   ]
  },
  {
   "cell_type": "code",
   "execution_count": 14,
   "metadata": {},
   "outputs": [
    {
     "name": "stdout",
     "output_type": "stream",
     "text": [
      "Enter name = Ram\n",
      "0 ['Ram', '43', 'Kathmandu']\n"
     ]
    }
   ],
   "source": [
    "l = [['Ram', '43', 'Kathmandu'], ['Shyam', '64', 'Bara']]\n",
    "n = len(l)\n",
    "name = input(\"Enter name = \")\n",
    "for i in range(n):\n",
    "    if l[i][0] == name:\n",
    "        print(i,l[i])"
   ]
  },
  {
   "cell_type": "code",
   "execution_count": 15,
   "metadata": {},
   "outputs": [
    {
     "name": "stdout",
     "output_type": "stream",
     "text": [
      "Enter n = 2\n",
      "Enter product name = Apple\n",
      "Enter price = 34\n",
      "Enter qty = 2\n",
      "Enter product name = Ball\n",
      "Enter price = 566\n",
      "Enter qty = 3\n",
      "[['Apple', 34, 2, 68], ['Ball', 566, 3, 1698]]\n",
      "The total price =  1766\n"
     ]
    }
   ],
   "source": [
    "s = []\n",
    "net_total = 0\n",
    "n = int(input(\"Enter n = \"))\n",
    "for i in range(n):\n",
    "    product = input(\"Enter product name = \")\n",
    "    price = int(input(\"Enter price = \"))\n",
    "    qty = int(input(\"Enter qty = \"))\n",
    "    total = price*qty\n",
    "    net_total = net_total+total\n",
    "    \n",
    "    s.append([product,price,qty,total])\n",
    "    \n",
    "    \n",
    "print(s)\n",
    "print(\"The total price = \",net_total)"
   ]
  },
  {
   "cell_type": "code",
   "execution_count": 18,
   "metadata": {},
   "outputs": [
    {
     "data": {
      "text/plain": [
       "[['Rama', '43', 'Kathmandu'], ['Shyam', '64', 'Bara']]"
      ]
     },
     "execution_count": 18,
     "metadata": {},
     "output_type": "execute_result"
    }
   ],
   "source": [
    "a = [['Ram', '43', 'Kathmandu'], ['Shyam', '64', 'Bara']]\n",
    "a[0][0] = \"Rama\"\n",
    "a"
   ]
  },
  {
   "cell_type": "code",
   "execution_count": 20,
   "metadata": {},
   "outputs": [
    {
     "data": {
      "text/plain": [
       "[['Shyam', '64', 'Bara']]"
      ]
     },
     "execution_count": 20,
     "metadata": {},
     "output_type": "execute_result"
    }
   ],
   "source": [
    "a = [['Ram', '43', 'Kathmandu'], ['Shyam', '64', 'Bara']]\n",
    "del a[0]\n",
    "a"
   ]
  },
  {
   "cell_type": "code",
   "execution_count": 22,
   "metadata": {},
   "outputs": [
    {
     "name": "stdout",
     "output_type": "stream",
     "text": [
      "Ram 34 Kathmandu 98565565543\n",
      "Shyam 34 Kathmandu 9856665654\n"
     ]
    }
   ],
   "source": [
    "a = \"Ram 34 Kathmandu 98565565543\\nShyam 34 Kathmandu 9856665654\"\n",
    "print(a)"
   ]
  },
  {
   "cell_type": "code",
   "execution_count": 26,
   "metadata": {},
   "outputs": [
    {
     "name": "stdout",
     "output_type": "stream",
     "text": [
      "[['Ram', '34', 'Kathmandu', '98565565543'], ['Shyam', '34', 'Kathmandu', '9856665654']]\n"
     ]
    }
   ],
   "source": [
    "c = []\n",
    "b = a.split('\\n')\n",
    "for i in b:\n",
    "    x = i.split()\n",
    "    c.append(x)\n",
    "print(c)"
   ]
  },
  {
   "cell_type": "code",
   "execution_count": 30,
   "metadata": {},
   "outputs": [
    {
     "name": "stdout",
     "output_type": "stream",
     "text": [
      "Enter r = 2\n",
      "Enter c = 2\n",
      "enter x = 1332\n",
      "enter x = 432423\n",
      "enter x = 242343\n",
      "enter x = 3453\n",
      "[['1332', '432423'], ['242343', '3453']]\n"
     ]
    }
   ],
   "source": [
    "m = []\n",
    "r = int(input(\"Enter r = \"))\n",
    "c = int(input(\"Enter c = \"))\n",
    "for i in range(r):\n",
    "    z = []\n",
    "    for j in range(c):\n",
    "        x = input(\"enter x = \")\n",
    "        z.append(x)\n",
    "    m.append(z)\n",
    "print(m)"
   ]
  },
  {
   "cell_type": "code",
   "execution_count": null,
   "metadata": {},
   "outputs": [],
   "source": [
    "# WAP for result management system  (name marks total per grade) "
   ]
  }
 ],
 "metadata": {
  "kernelspec": {
   "display_name": "Python 3",
   "language": "python",
   "name": "python3"
  },
  "language_info": {
   "codemirror_mode": {
    "name": "ipython",
    "version": 3
   },
   "file_extension": ".py",
   "mimetype": "text/x-python",
   "name": "python",
   "nbconvert_exporter": "python",
   "pygments_lexer": "ipython3",
   "version": "3.7.1"
  }
 },
 "nbformat": 4,
 "nbformat_minor": 2
}
