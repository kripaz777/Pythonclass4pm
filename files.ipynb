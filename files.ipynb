{
 "cells": [
  {
   "cell_type": "code",
   "execution_count": 5,
   "metadata": {},
   "outputs": [],
   "source": [
    "try:\n",
    "    b = open('data.txt','x')\n",
    "    b.close()\n",
    "except:\n",
    "    print(\"The file is already there\")"
   ]
  },
  {
   "cell_type": "code",
   "execution_count": 8,
   "metadata": {},
   "outputs": [
    {
     "name": "stdout",
     "output_type": "stream",
     "text": [
      "1.Hello World\n",
      "2.Hello World\n",
      "3.Hello World\n",
      "4.Hello World\n",
      "5.Hello World\n",
      "6.Hello World\n",
      "7.Hello World\n",
      "8.Hello World\n",
      "9.Hello World\n",
      "<class 'str'>\n"
     ]
    }
   ],
   "source": [
    "b = open('data.txt','r')\n",
    "x = b.read()\n",
    "print(x)\n",
    "print(type(x))\n",
    "b.close()"
   ]
  },
  {
   "cell_type": "code",
   "execution_count": 9,
   "metadata": {},
   "outputs": [
    {
     "name": "stdout",
     "output_type": "stream",
     "text": [
      "1.Hello World\n",
      "2.Hello World\n",
      "3.Hello World\n",
      "4.Hello World\n",
      "5.Hello World\n",
      "6.Hello World\n",
      "7.Hello World\n",
      "8.\n",
      "<class 'str'>\n"
     ]
    }
   ],
   "source": [
    "b = open('data.txt','r')\n",
    "x = b.read(100)\n",
    "print(x)\n",
    "print(type(x))\n",
    "b.close()"
   ]
  },
  {
   "cell_type": "code",
   "execution_count": 10,
   "metadata": {},
   "outputs": [
    {
     "name": "stdout",
     "output_type": "stream",
     "text": [
      "1.Hello World\n",
      "\n",
      "<class 'str'>\n"
     ]
    }
   ],
   "source": [
    "b = open('data.txt','r')\n",
    "x = b.readline()\n",
    "print(x)\n",
    "\n",
    "b.close()"
   ]
  },
  {
   "cell_type": "code",
   "execution_count": 11,
   "metadata": {},
   "outputs": [
    {
     "name": "stdout",
     "output_type": "stream",
     "text": [
      "1.Hello World\n",
      "\n",
      "2.Hello World\n",
      "\n"
     ]
    }
   ],
   "source": [
    "b = open('data.txt','r')\n",
    "\n",
    "print(b.readline())\n",
    "print(b.readline())\n",
    "b.close()"
   ]
  },
  {
   "cell_type": "code",
   "execution_count": 13,
   "metadata": {},
   "outputs": [
    {
     "name": "stdout",
     "output_type": "stream",
     "text": [
      "Enter line = 2\n",
      "2.Hello World\n",
      "\n"
     ]
    }
   ],
   "source": [
    "b = open('data.txt','r')\n",
    "n = 10\n",
    "line = int(input(\"Enter line = \"))\n",
    "for i in range(1,11):\n",
    "    if line != i:\n",
    "        b.readline()\n",
    "    else:\n",
    "        print(b.readline())\n",
    "\n",
    "b.close()"
   ]
  },
  {
   "cell_type": "code",
   "execution_count": 14,
   "metadata": {},
   "outputs": [],
   "source": [
    "b = open('data1.txt','a')\n",
    "b.write(\"Hello World\")\n",
    "b.close()"
   ]
  },
  {
   "cell_type": "code",
   "execution_count": 15,
   "metadata": {},
   "outputs": [
    {
     "name": "stdout",
     "output_type": "stream",
     "text": [
      "Enter n = 2\n",
      "Enter name = Ram\n",
      "Enter phone = 9856556543\n",
      "Enter age = 34\n",
      "Enter add = Kathmandu\n",
      "Enter name = Shyam\n",
      "Enter phone = 9856554543\n",
      "Enter age = 54\n",
      "Enter add = Patan\n",
      "Ram 34 Kathmandu 9856556543\n",
      "Shyam 54 Patan 9856554543\n",
      "\n"
     ]
    }
   ],
   "source": [
    "s = str()\n",
    "n = int(input(\"Enter n = \"))\n",
    "for i in range(n):\n",
    "    name = input(\"Enter name = \")\n",
    "    phone = input(\"Enter phone = \")\n",
    "    age = int(input(\"Enter age = \"))\n",
    "    add = input(\"Enter add = \")\n",
    "    s = s+f\"{name} {age} {add} {phone}\\n\"\n",
    "print(s)\n",
    "\n",
    "b = open('data1.txt','a')\n",
    "b.write(s)\n",
    "b.close()"
   ]
  },
  {
   "cell_type": "code",
   "execution_count": 17,
   "metadata": {},
   "outputs": [
    {
     "name": "stdout",
     "output_type": "stream",
     "text": [
      "Ram 34 Kathmandu 9856556543\n",
      "Shyam 54 Patan 9856554543\n",
      "\n"
     ]
    }
   ],
   "source": [
    "b = open('data1.txt','r')\n",
    "print(b.read())\n",
    "b.close()"
   ]
  },
  {
   "cell_type": "code",
   "execution_count": 22,
   "metadata": {},
   "outputs": [
    {
     "name": "stdout",
     "output_type": "stream",
     "text": [
      "Enter n = 2\n",
      "Enter name = Ram\n",
      "Enter phone = 9856554543\n",
      "Enter age = 89\n",
      "Enter add = Kathnandu\n",
      "Enter name = Shyam\n",
      "Enter phone = 9844543232\n",
      "Enter age = 34\n",
      "Enter add = Kathmandu\n",
      "Ram,9856554543,89,Kathnandu\n",
      "Shyam,9844543232,34,Kathmandu\n",
      "\n"
     ]
    }
   ],
   "source": [
    "s = str()\n",
    "n = int(input(\"Enter n = \"))\n",
    "for i in range(n):\n",
    "    name = input(\"Enter name = \")\n",
    "    phone = input(\"Enter phone = \")\n",
    "    age = int(input(\"Enter age = \"))\n",
    "    add = input(\"Enter add = \")\n",
    "    s = s+f\"{name},{phone},{age},{add}\\n\"\n",
    "print(s)\n",
    "\n",
    "b = open('data1.csv','w')\n",
    "b.write(\"Name,Phone,Age,Address\\n\")\n",
    "b.write(s)\n",
    "b.close()"
   ]
  },
  {
   "cell_type": "code",
   "execution_count": 23,
   "metadata": {},
   "outputs": [
    {
     "name": "stdout",
     "output_type": "stream",
     "text": [
      "Enter n = 2\n",
      "Enter name = Ram\n",
      "Enter phone = 9856554543\n",
      "Enter age = 56\n",
      "Enter add = Kathmandu\n",
      "Enter name = Hari\n",
      "Enter phone = 9856556789\n",
      "Enter age = 67\n",
      "Enter add = Patan\n",
      "Hari,9856556789,67,Patan\n",
      "\n"
     ]
    }
   ],
   "source": [
    "b = open('data1.csv','a')\n",
    "b.write(\"Name,Phone,Age,Address\\n\")\n",
    "n = int(input(\"Enter n = \"))\n",
    "for i in range(n):\n",
    "    name = input(\"Enter name = \")\n",
    "    phone = input(\"Enter phone = \")\n",
    "    age = int(input(\"Enter age = \"))\n",
    "    add = input(\"Enter add = \")\n",
    "    s =f\"{name},{phone},{age},{add}\\n\"\n",
    "    b.write(s)\n",
    "print(s)\n",
    "\n",
    "b.close()"
   ]
  },
  {
   "cell_type": "code",
   "execution_count": 36,
   "metadata": {},
   "outputs": [
    {
     "name": "stdout",
     "output_type": "stream",
     "text": [
      "Name,Phone,Age,Address\n",
      "Akash,9856554543,56,Kathmandu\n",
      "Hari,9856556789,67,Patan\n"
     ]
    }
   ],
   "source": [
    "b = open('data1.csv','r')\n",
    "x = b.read()\n",
    "x = x.replace(\"Ram\",\"Akash\")\n",
    "print(x)\n",
    "b.close()\n"
   ]
  },
  {
   "cell_type": "code",
   "execution_count": 37,
   "metadata": {},
   "outputs": [],
   "source": [
    "b = open('data1.csv','w')\n",
    "b.write(x)\n",
    "b.close()\n"
   ]
  },
  {
   "cell_type": "code",
   "execution_count": 3,
   "metadata": {},
   "outputs": [
    {
     "name": "stdout",
     "output_type": "stream",
     "text": [
      "There is no such file.\n"
     ]
    }
   ],
   "source": [
    "import os\n",
    "try:\n",
    "    os.remove('data.txt')\n",
    "    print(\"The file is removed\")\n",
    "except:\n",
    "    print(\"There is no such file.\")"
   ]
  },
  {
   "cell_type": "code",
   "execution_count": 4,
   "metadata": {},
   "outputs": [
    {
     "data": {
      "text/plain": [
       "'Untitled Folder\\\\data1.csv'"
      ]
     },
     "execution_count": 4,
     "metadata": {},
     "output_type": "execute_result"
    }
   ],
   "source": [
    "import shutil as s\n",
    "src = \"data1.csv\"\n",
    "dst = \"Untitled Folder\"\n",
    "s.copy(src,dst)"
   ]
  },
  {
   "cell_type": "code",
   "execution_count": null,
   "metadata": {},
   "outputs": [],
   "source": []
  }
 ],
 "metadata": {
  "kernelspec": {
   "display_name": "Python 3",
   "language": "python",
   "name": "python3"
  },
  "language_info": {
   "codemirror_mode": {
    "name": "ipython",
    "version": 3
   },
   "file_extension": ".py",
   "mimetype": "text/x-python",
   "name": "python",
   "nbconvert_exporter": "python",
   "pygments_lexer": "ipython3",
   "version": "3.7.1"
  }
 },
 "nbformat": 4,
 "nbformat_minor": 2
}
