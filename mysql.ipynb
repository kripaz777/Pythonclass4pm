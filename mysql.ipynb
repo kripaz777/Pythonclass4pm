{
 "cells": [
  {
   "cell_type": "code",
   "execution_count": 1,
   "metadata": {},
   "outputs": [],
   "source": [
    "import mysql.connector\n",
    "#importing database\n",
    "database = mysql.connector.connect(\n",
    "    host=\"localhost\",\n",
    "    user=\"root\",\n",
    "    password=\"\",\n",
    "  database = \"class4pm\"\n",
    ")\n",
    "db = database.cursor()"
   ]
  },
  {
   "cell_type": "code",
   "execution_count": 2,
   "metadata": {},
   "outputs": [],
   "source": [
    "sql = \"INSERT INTO student(name,roll,physics,chemistry,math,english,nepali,total,per) VALUES('Shyam',34,89,78,87,89,98,468,89)\"\n",
    "db.execute(sql)\n",
    "database.commit()"
   ]
  },
  {
   "cell_type": "code",
   "execution_count": 4,
   "metadata": {},
   "outputs": [
    {
     "name": "stdout",
     "output_type": "stream",
     "text": [
      "Enter n = 2\n",
      "Enter name = Nabin\n",
      "Enter roll = 3\n",
      "Enter physics =90\n",
      "Enter chemistry = 89\n",
      "Enter math = 98\n",
      "Enter english = 78\n",
      "Enter nepali = 98\n",
      "Enter name = Hari\n",
      "Enter roll = 7\n",
      "Enter physics =89\n",
      "Enter chemistry = 87\n",
      "Enter math = 78\n",
      "Enter english = 96\n",
      "Enter nepali = 90\n"
     ]
    }
   ],
   "source": [
    "n = int(input(\"Enter n = \"))\n",
    "for i in range(n):\n",
    "    name = input(\"Enter name = \")\n",
    "    roll = int(input(\"Enter roll = \"))\n",
    "    physics = int(input(\"Enter physics =\"))\n",
    "    chemistry = int(input(\"Enter chemistry = \"))\n",
    "    math = int(input(\"Enter math = \"))\n",
    "    english = int(input(\"Enter english = \"))\n",
    "    nepali = int(input(\"Enter nepali = \"))\n",
    "    total = physics+chemistry+ math+english +nepali\n",
    "    per = total/5\n",
    "    sql = f\"INSERT INTO student(name,roll,physics,chemistry,math,english,nepali,total,per) VALUES('{name}',{roll},{physics},{chemistry},{math},{english},{nepali},{total},{per})\"\n",
    "    db.execute(sql)\n",
    "database.commit()"
   ]
  },
  {
   "cell_type": "code",
   "execution_count": 5,
   "metadata": {},
   "outputs": [
    {
     "name": "stdout",
     "output_type": "stream",
     "text": [
      "(1, 'Ram', 1, 78, 89, 95, 67, 80, 458, 80.0)\n",
      "(2, 'Shyam', 34, 89, 78, 87, 89, 98, 468, 89.0)\n",
      "(3, 'Nabin', 3, 90, 89, 98, 78, 98, 453, 90.6)\n",
      "(4, 'Hari', 7, 89, 87, 78, 96, 90, 440, 88.0)\n"
     ]
    }
   ],
   "source": [
    "db.execute(\"SELECT * FROM student\")\n",
    "           \n",
    "result =db.fetchall()\n",
    "for x in result:\n",
    "    print(x)\n"
   ]
  },
  {
   "cell_type": "code",
   "execution_count": 6,
   "metadata": {},
   "outputs": [
    {
     "name": "stdout",
     "output_type": "stream",
     "text": [
      "('Ram', 1, 458, 80.0)\n",
      "('Shyam', 34, 468, 89.0)\n",
      "('Nabin', 3, 453, 90.6)\n",
      "('Hari', 7, 440, 88.0)\n"
     ]
    }
   ],
   "source": [
    "db.execute(\"SELECT name,roll,total,per FROM student\")\n",
    "           \n",
    "result =db.fetchall()\n",
    "for x in result:\n",
    "    print(x)\n"
   ]
  },
  {
   "cell_type": "code",
   "execution_count": 7,
   "metadata": {},
   "outputs": [
    {
     "name": "stdout",
     "output_type": "stream",
     "text": [
      "(2, 'Shyam', 34, 89, 78, 87, 89, 98, 468, 89.0)\n",
      "(3, 'Nabin', 3, 90, 89, 98, 78, 98, 453, 90.6)\n",
      "(4, 'Hari', 7, 89, 87, 78, 96, 90, 440, 88.0)\n"
     ]
    }
   ],
   "source": [
    "db.execute(\"SELECT * FROM student WHERE per >85\")\n",
    "           \n",
    "result =db.fetchall()\n",
    "for x in result:\n",
    "    print(x)"
   ]
  },
  {
   "cell_type": "code",
   "execution_count": 3,
   "metadata": {},
   "outputs": [],
   "source": [
    "sql = \"UPDATE student SET name = 'Shyama' WHERE sn = 2\"\n",
    "db.execute(sql)\n",
    "database.commit()"
   ]
  },
  {
   "cell_type": "code",
   "execution_count": 18,
   "metadata": {},
   "outputs": [
    {
     "name": "stdout",
     "output_type": "stream",
     "text": [
      "Enter subject name (physics,chemistry,math,english,nepali  physics\n",
      "Enter student name = ram\n",
      "[(67, 458)]\n",
      "Enter new marks = 99\n"
     ]
    }
   ],
   "source": [
    "n = int(input(\"Enter n = \"))\n",
    "for i in range(n):\n",
    "    subject = input(\"Enter subject name (physics,chemistry,math,english,nepali  \")\n",
    "    name = input(\"Enter student name = \")\n",
    "    db.execute(f\"SELECT {subject} ,total FROM student WHERE name = '{name}'\")\n",
    "    results =db.fetchall()\n",
    "    print(results)\n",
    "    marks =results[0][0]\n",
    "    total = results[0][1]\n",
    "\n",
    "\n",
    "    new_marks = int(input(\"Enter new marks = \"))\n",
    "    resultant_marks = new_marks-marks\n",
    "    total = total+resultant_marks\n",
    "    per = total/5\n",
    "\n",
    "    sql = f\"UPDATE student SET physics = {new_marks},total = {total},per = {per} WHERE name = '{name}'\"\n",
    "    db.execute(sql)\n",
    "database.commit()\n"
   ]
  },
  {
   "cell_type": "code",
   "execution_count": 20,
   "metadata": {},
   "outputs": [
    {
     "name": "stdout",
     "output_type": "stream",
     "text": [
      "Enter name = Hari\n"
     ]
    }
   ],
   "source": [
    "name = input(\"Enter name = \")\n",
    "sql = f\"DELETE FROM student WHERE name = '{name}'\"\n",
    "db.execute(sql)\n",
    "database.commit()\n"
   ]
  },
  {
   "cell_type": "code",
   "execution_count": null,
   "metadata": {},
   "outputs": [],
   "source": []
  }
 ],
 "metadata": {
  "kernelspec": {
   "display_name": "Python 3",
   "language": "python",
   "name": "python3"
  },
  "language_info": {
   "codemirror_mode": {
    "name": "ipython",
    "version": 3
   },
   "file_extension": ".py",
   "mimetype": "text/x-python",
   "name": "python",
   "nbconvert_exporter": "python",
   "pygments_lexer": "ipython3",
   "version": "3.7.1"
  }
 },
 "nbformat": 4,
 "nbformat_minor": 2
}
